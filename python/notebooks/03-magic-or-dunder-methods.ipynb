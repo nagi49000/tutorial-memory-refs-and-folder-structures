{
 "cells": [
  {
   "cell_type": "markdown",
   "id": "c1f29632",
   "metadata": {},
   "source": [
    "\n",
    "# Magic (or Dunder) methods\n",
    "\n",
    "Recall that everything in Python is a reference. Methods can be attached onto a reference. Various methods allow the user to do more things with that reference in the runtime environment. This notebook explores those methods attached to various objects.\n",
    "\n",
    "BE WARNED, HERE BE DRAGONS. One can go crazy defining magic methods all over the place. It is usually a bad idea to go beyond the default supplied magic methods unless a clear design decision says otherwise (e.g. when one would use operator over-loading in C++)."
   ]
  },
  {
   "cell_type": "markdown",
   "id": "f1e68778",
   "metadata": {},
   "source": [
    "## Classes and functions"
   ]
  },
  {
   "cell_type": "markdown",
   "id": "10ba24e7",
   "metadata": {},
   "source": [
    "Classes usually come packaged with magic methods by default, e.g. the \\_\\_init\\_\\_ method. Functions also come packaged with their own magic methods. Indeed, since Foo and Bar are, in the Python VM, just references, it is actually the magic methods associated that describe if the are a 'function', a 'class', or a strange Frankenstein."
   ]
  },
  {
   "cell_type": "code",
   "execution_count": 1,
   "id": "43559289",
   "metadata": {},
   "outputs": [
    {
     "data": {
      "text/plain": [
       "['__class__',\n",
       " '__delattr__',\n",
       " '__dict__',\n",
       " '__dir__',\n",
       " '__doc__',\n",
       " '__eq__',\n",
       " '__format__',\n",
       " '__ge__',\n",
       " '__getattribute__',\n",
       " '__gt__',\n",
       " '__hash__',\n",
       " '__init__',\n",
       " '__init_subclass__',\n",
       " '__le__',\n",
       " '__lt__',\n",
       " '__module__',\n",
       " '__ne__',\n",
       " '__new__',\n",
       " '__reduce__',\n",
       " '__reduce_ex__',\n",
       " '__repr__',\n",
       " '__setattr__',\n",
       " '__sizeof__',\n",
       " '__str__',\n",
       " '__subclasshook__',\n",
       " '__weakref__']"
      ]
     },
     "execution_count": 1,
     "metadata": {},
     "output_type": "execute_result"
    }
   ],
   "source": [
    "class Foo:\n",
    "    pass\n",
    "\n",
    "dir(Foo)"
   ]
  },
  {
   "cell_type": "code",
   "execution_count": 2,
   "id": "a51fafb4",
   "metadata": {},
   "outputs": [
    {
     "data": {
      "text/plain": [
       "['__annotations__',\n",
       " '__builtins__',\n",
       " '__call__',\n",
       " '__class__',\n",
       " '__closure__',\n",
       " '__code__',\n",
       " '__defaults__',\n",
       " '__delattr__',\n",
       " '__dict__',\n",
       " '__dir__',\n",
       " '__doc__',\n",
       " '__eq__',\n",
       " '__format__',\n",
       " '__ge__',\n",
       " '__get__',\n",
       " '__getattribute__',\n",
       " '__globals__',\n",
       " '__gt__',\n",
       " '__hash__',\n",
       " '__init__',\n",
       " '__init_subclass__',\n",
       " '__kwdefaults__',\n",
       " '__le__',\n",
       " '__lt__',\n",
       " '__module__',\n",
       " '__name__',\n",
       " '__ne__',\n",
       " '__new__',\n",
       " '__qualname__',\n",
       " '__reduce__',\n",
       " '__reduce_ex__',\n",
       " '__repr__',\n",
       " '__setattr__',\n",
       " '__sizeof__',\n",
       " '__str__',\n",
       " '__subclasshook__']"
      ]
     },
     "execution_count": 2,
     "metadata": {},
     "output_type": "execute_result"
    }
   ],
   "source": [
    "def Bar():\n",
    "    pass\n",
    "\n",
    "dir(Bar)"
   ]
  },
  {
   "cell_type": "markdown",
   "id": "46203099",
   "metadata": {},
   "source": [
    "The intention is that these methods are not called directly themselves, they allow defining the behaviour of operators, e.g. the \\_\\_le\\_\\_ operator (as a function) describes how to evaluate (and return a boolean) if this object is less than the next object.\n",
    "\n",
    "As an example, one could make instances of a class behave like functions. This is something that generally looks rather confusing in code; why would the instance be callable, rather than call a method of the class? Hoewever, use cases can arise."
   ]
  },
  {
   "cell_type": "code",
   "execution_count": 3,
   "id": "5e79fec6",
   "metadata": {},
   "outputs": [
    {
     "name": "stdout",
     "output_type": "stream",
     "text": [
      "I think I am a function!\n"
     ]
    }
   ],
   "source": [
    "class FooWithFn:\n",
    "    def __call__(self):\n",
    "        print(\"I think I am a function!\")\n",
    "        \n",
    "foo_with_fn = FooWithFn()  # this calls the __init__\n",
    "foo_with_fn()  # this calls the __call__"
   ]
  },
  {
   "cell_type": "code",
   "execution_count": 4,
   "id": "52476c3a",
   "metadata": {
    "scrolled": false
   },
   "outputs": [
    {
     "data": {
      "text/plain": [
       "['__call__',\n",
       " '__class__',\n",
       " '__delattr__',\n",
       " '__dict__',\n",
       " '__dir__',\n",
       " '__doc__',\n",
       " '__eq__',\n",
       " '__format__',\n",
       " '__ge__',\n",
       " '__getattribute__',\n",
       " '__gt__',\n",
       " '__hash__',\n",
       " '__init__',\n",
       " '__init_subclass__',\n",
       " '__le__',\n",
       " '__lt__',\n",
       " '__module__',\n",
       " '__ne__',\n",
       " '__new__',\n",
       " '__reduce__',\n",
       " '__reduce_ex__',\n",
       " '__repr__',\n",
       " '__setattr__',\n",
       " '__sizeof__',\n",
       " '__str__',\n",
       " '__subclasshook__',\n",
       " '__weakref__']"
      ]
     },
     "execution_count": 4,
     "metadata": {},
     "output_type": "execute_result"
    }
   ],
   "source": [
    "dir(FooWithFn)"
   ]
  },
  {
   "cell_type": "markdown",
   "id": "b90cbf37",
   "metadata": {},
   "source": [
    "## Modules\n",
    "\n",
    "Everything in Python is a reference, and references can have magic methods associated to them. Therefore modules in Python should be able to have magic methods associated to them as well. This is true, to a degree, although heavily restricted.\n",
    "\n",
    "For example, importing a folder with an \\_\\_init\\_\\_.py will run the \\_\\_init\\_\\_.py at import, in exactly the same way that a self.\\_\\_init\\_\\_ is run when creating an instance of a class."
   ]
  },
  {
   "cell_type": "code",
   "execution_count": 5,
   "id": "8df31107",
   "metadata": {},
   "outputs": [
    {
     "name": "stdout",
     "output_type": "stream",
     "text": [
      "print(\"I am some magic in folder_with_magic!\")\r\n"
     ]
    }
   ],
   "source": [
    "!cat pylibs/folder_with_magic/__init__.py"
   ]
  },
  {
   "cell_type": "code",
   "execution_count": 6,
   "id": "ceb64686",
   "metadata": {},
   "outputs": [
    {
     "name": "stdout",
     "output_type": "stream",
     "text": [
      "I am some magic in folder_with_magic!\n"
     ]
    }
   ],
   "source": [
    "import pylibs.folder_with_magic"
   ]
  },
  {
   "cell_type": "markdown",
   "id": "06597a7e",
   "metadata": {},
   "source": [
    "The same holds for a file containing magic methods within within a folder (which also appears as a Module within the Python VM). In the example below, the magic method is outside of any class definitions, and is in the py file. The magic method thus gets associated to the \"py file\" in the Python VM, or more precisely gets associated to the resultant Module."
   ]
  },
  {
   "cell_type": "code",
   "execution_count": 7,
   "id": "7f41dd1f",
   "metadata": {},
   "outputs": [
    {
     "name": "stdout",
     "output_type": "stream",
     "text": [
      "def __dir__():\r\n",
      "    return ['foo', 'bar']\r\n"
     ]
    }
   ],
   "source": [
    "!cat pylibs/folder_with_magic/file_with_magic.py"
   ]
  },
  {
   "cell_type": "code",
   "execution_count": 8,
   "id": "5486eaed",
   "metadata": {},
   "outputs": [
    {
     "data": {
      "text/plain": [
       "['bar', 'foo']"
      ]
     },
     "execution_count": 8,
     "metadata": {},
     "output_type": "execute_result"
    }
   ],
   "source": [
    "import pylibs.folder_with_magic.file_with_magic\n",
    "dir(pylibs.folder_with_magic.file_with_magic)"
   ]
  }
 ],
 "metadata": {
  "kernelspec": {
   "display_name": "Python 3 (ipykernel)",
   "language": "python",
   "name": "python3"
  },
  "language_info": {
   "codemirror_mode": {
    "name": "ipython",
    "version": 3
   },
   "file_extension": ".py",
   "mimetype": "text/x-python",
   "name": "python",
   "nbconvert_exporter": "python",
   "pygments_lexer": "ipython3",
   "version": "3.10.4"
  }
 },
 "nbformat": 4,
 "nbformat_minor": 5
}
