{
 "cells": [
  {
   "cell_type": "code",
   "execution_count": 1,
   "id": "c43c68b1",
   "metadata": {},
   "outputs": [],
   "source": [
    "import copy\n",
    "import sys"
   ]
  },
  {
   "cell_type": "markdown",
   "id": "a795cc17",
   "metadata": {},
   "source": [
    "# Memory references\n",
    "\n",
    "Python is often described as a 'weakly typed language' with 'duck-typing'. These descriptions allude to aspects about the Python VM design which we will go into more detail here."
   ]
  },
  {
   "cell_type": "markdown",
   "id": "c3107c0d",
   "metadata": {},
   "source": [
    "## The short answer\n",
    "\n",
    "In Python, every time an object or variable appears, it isn't really an object or variable. Everything in Python is a __memory reference__. This means that the object or variable actually points to a piece of memory, and that the object or variable is actually at that memory location.\n",
    "\n",
    "This may seem like an academic observation, but it has important rammifications. Indeed, Python being a high level language deliberately abstracts these concepts away from the user, whilst also giving relevant tools to dig into those aspects and use them (in this sense, the language and VM is actually pretty well designed, although by no means perfect).\n",
    "\n",
    "Consider the following variables defined and manipulated:"
   ]
  },
  {
   "cell_type": "code",
   "execution_count": 2,
   "id": "3220217d",
   "metadata": {},
   "outputs": [
    {
     "name": "stdout",
     "output_type": "stream",
     "text": [
      "[1, 10, 3]\n",
      "[1, 10, 3]\n"
     ]
    }
   ],
   "source": [
    "a = [1,2,3]  # we define a list \n",
    "b = a  # we assign a variable b to the variable a. This is an 'assignment by reference', not 'by value'\n",
    "b[1] = 10  # we manipulate b in some way\n",
    "print(b)  # we see the effect on b\n",
    "print(a)  # and we also see the effect on a"
   ]
  },
  {
   "cell_type": "markdown",
   "id": "c7d32455",
   "metadata": {},
   "source": [
    "We assigned b to a \"by reference\". This means that a and b both refer to the same piece of memory. That means that manipulations on the memory referred to by b, will have an effect on the memory referred to by a. We can get round this by making an assignment onto a new piece of memory, and transferrinf the values in"
   ]
  },
  {
   "cell_type": "code",
   "execution_count": 3,
   "id": "5bd19ee6",
   "metadata": {},
   "outputs": [
    {
     "name": "stdout",
     "output_type": "stream",
     "text": [
      "[1, 100, 3]\n",
      "[1, 10, 3]\n"
     ]
    }
   ],
   "source": [
    "b = copy.copy(a)  # under the hood, this makes a copy in memory, and transfers over the values\n",
    "b[1] = 100  # we manipulate b in some way\n",
    "print(b)  # we see the effect on b\n",
    "print(a)  # we see there is no effect on a"
   ]
  },
  {
   "cell_type": "markdown",
   "id": "3637942a",
   "metadata": {},
   "source": [
    "Now, both a and b refer to different pieces of memory; so manipulations on the memory referred to by a have no effect on the memory referred to by b.\n",
    "\n",
    "This does raise the question of managing memory, which is usually abstracted away from the user. Each piece of memory has a 'reference count'"
   ]
  },
  {
   "cell_type": "code",
   "execution_count": 4,
   "id": "064e128e",
   "metadata": {},
   "outputs": [
    {
     "name": "stdout",
     "output_type": "stream",
     "text": [
      "2\n",
      "3\n"
     ]
    }
   ],
   "source": [
    "c = [5,6,7]\n",
    "print(sys.getrefcount(c))  # this will count the actual ref, c , as well as a temp arg ref under the hood.\n",
    "d = c  # assign another reference\n",
    "print(sys.getrefcount(c))  # the reference count increases by 1"
   ]
  },
  {
   "cell_type": "code",
   "execution_count": 5,
   "id": "366fb6dd",
   "metadata": {
    "scrolled": true
   },
   "outputs": [
    {
     "name": "stdout",
     "output_type": "stream",
     "text": [
      "0x7f3eb72b9300\n",
      "0x7f3eb72b9300\n"
     ]
    }
   ],
   "source": [
    "# we can directly see the memory each variable refers to, and they are indeed the same\n",
    "print(hex(id(c)))\n",
    "print(hex(id(d)))"
   ]
  },
  {
   "cell_type": "code",
   "execution_count": 6,
   "id": "26ecac69",
   "metadata": {},
   "outputs": [
    {
     "name": "stdout",
     "output_type": "stream",
     "text": [
      "0x7f3eb72b9300\n",
      "0x7f3eb72af7c0\n",
      "2\n"
     ]
    }
   ],
   "source": [
    "# updating d to a new object means it now refers to a different piece of memory; \n",
    "# the memory pointed by c has its reference count go down by 1\n",
    "d = [8,9,10]\n",
    "print(hex(id(c)))  # same as before\n",
    "print(hex(id(d)))  # a new address\n",
    "print(sys.getrefcount(c))  # ref count has gone down by 1"
   ]
  },
  {
   "cell_type": "markdown",
   "id": "0426ea3c",
   "metadata": {},
   "source": [
    "Under the hood, Python keeps a reference count of all pieces of memory allocated with the Python VM. For any piece of memory where the reference count reaches 0, the __garbage collecter__ will automatically free up the memory. These are actions absracted away form the user.\n",
    "\n",
    "As a side note, when memory does not get released, due to reference counts not reaching zero (usually due to coding error, and keeping variables/objects/references around), the Python VM running the code experiences a __memory leak__ ."
   ]
  },
  {
   "cell_type": "markdown",
   "id": "def83acf",
   "metadata": {},
   "source": [
    "## The involved answer\n",
    "\n",
    "Python tries to handle all the memory management for you. The other extreme is C++98. References, as opposed to variables or objects, are declared explicitly. Since everything is declared explicitly, and the code directly translates to the memory outlay of the compiled code at runtime, C++98 is considered a 'strongly typed language'.\n",
    "\n",
    "An additional object, called a __pointer__ is also used, which points to a specific piece of memory. It gives a method of navigating around the memory, by incrementing or decrementing the pointer (pointers don't appear in Python, so we will not go into them here)."
   ]
  },
  {
   "cell_type": "code",
   "execution_count": 7,
   "id": "747f27ce",
   "metadata": {},
   "outputs": [],
   "source": [
    "%%script false  --no-raise-error  \n",
    "// C++ code; this will not run in Jupyter\n",
    "int i = 3;  // this variable is defined on the stack\n",
    "int &ref = i;  // A reference (or alias) for i\n",
    "int *ptr = &i;  // A pointer to variable i (or stores address of i)"
   ]
  },
  {
   "cell_type": "markdown",
   "id": "7ee5cb79",
   "metadata": {},
   "source": [
    "In C++, memory can be allocated, and the memory will belong on the __heap__. In Python, since everything is a reference, implicitly all memory used is on the __heap__."
   ]
  },
  {
   "cell_type": "code",
   "execution_count": 8,
   "id": "18bad5f1",
   "metadata": {},
   "outputs": [],
   "source": [
    "%%script false  --no-raise-error\n",
    "// C++ code; this will not run in Jupyter\n",
    "// These three lines are effectively what is happening in Python when running \"ref = 3\"\n",
    "int *ptr = new int;  // initialise a pointer and allocate some memory to it\n",
    "int &ref = *ptr;  // assign a reference to the pointer and allocated memory\n",
    "ref = 3;  // assign the value"
   ]
  },
  {
   "cell_type": "markdown",
   "id": "69f0587a",
   "metadata": {},
   "source": [
    "In the same way that memory is allocated manually, so must the memory be free-ed, to avoid memory leaks"
   ]
  },
  {
   "cell_type": "code",
   "execution_count": 9,
   "id": "7a1c5432",
   "metadata": {},
   "outputs": [],
   "source": [
    "%%script false  --no-raise-error\n",
    "// C++ code; this will not run in Jupyter\n",
    "int *ptr = new int;  // initialise a pointer and allocate some memory to it\n",
    "int &ref = *ptr;  // assign a reference to the pointer and allocated memory\n",
    "delete(ptr)  // releases the memory. Assigning anything to ref or ptr now will trash memory (e.g. SEGFAULT)!!!"
   ]
  },
  {
   "cell_type": "markdown",
   "id": "118c4e64",
   "metadata": {},
   "source": [
    "This \"free\" command is what the garbage collector will be running during garbage collection for reference counts that reach zero. Whilst C++98 gives you the freedom to play directly with memory, it gives a lot of rope to hang yourself with, and yields an intense debugging experience working out how memory is being manipulated incorrectly. Common problems are references and pointers referring to incorrect, or out of date memory, or pointing to a NULL pointer (a default 'zero' value that does not point to any real memory)."
   ]
  },
  {
   "cell_type": "markdown",
   "id": "27974e99",
   "metadata": {},
   "source": [
    "## The broken answer\n",
    "Java is an intermediate example, and has more in common with Python. Java has a garbage collector, and everything in Java is a reference. Garbage collection in a JVM is handled in the same way as a Python VM; the grabage collector will free any memory whose reference count reaches 0. The syntax for creating variables and memory is similar to C++98, and as such, Java is often considered a 'statically typed language'. The main difference in syntax is that Java, as a language, does not have pointers."
   ]
  },
  {
   "cell_type": "code",
   "execution_count": 10,
   "id": "cfbd8520",
   "metadata": {},
   "outputs": [],
   "source": [
    "%%script false  --no-raise-error\n",
    "// Java code; this will not run in Jupyter\n",
    "Integer num1 = 10;\n",
    "Integer num2 = new Integer();\n",
    "Integer num3 = null;"
   ]
  },
  {
   "cell_type": "markdown",
   "id": "c671a89d",
   "metadata": {},
   "source": [
    "Despite not having pointers, the language supports a \"null\" type. Since, in Java, all the objects are references, this means that a null pointer is associate to the reference. Calling on num3 in Java code will, at runtime, yield a NullPointerException.\n",
    "\n",
    "The syntax of Java gives the impression the language is statically typed. However, after compilation and at runtime in the JVM, all objects are references open to NullPointerExceptions, and so behave more like dynamically typed objects."
   ]
  }
 ],
 "metadata": {
  "kernelspec": {
   "display_name": "Python 3 (ipykernel)",
   "language": "python",
   "name": "python3"
  },
  "language_info": {
   "codemirror_mode": {
    "name": "ipython",
    "version": 3
   },
   "file_extension": ".py",
   "mimetype": "text/x-python",
   "name": "python",
   "nbconvert_exporter": "python",
   "pygments_lexer": "ipython3",
   "version": "3.10.4"
  }
 },
 "nbformat": 4,
 "nbformat_minor": 5
}
