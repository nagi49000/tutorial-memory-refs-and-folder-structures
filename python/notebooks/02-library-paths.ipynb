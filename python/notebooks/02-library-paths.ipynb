{
 "cells": [
  {
   "cell_type": "code",
   "execution_count": null,
   "id": "dabec43d",
   "metadata": {},
   "outputs": [],
   "source": [
    "import sys"
   ]
  },
  {
   "cell_type": "markdown",
   "id": "708a5027",
   "metadata": {},
   "source": [
    "# Library paths, namespaces and submodules\n",
    "\n",
    "Library, or linker, paths are paths that a runtime environment searches for executable code. Here we will explore how these appear in Python."
   ]
  },
  {
   "cell_type": "markdown",
   "id": "660af192",
   "metadata": {},
   "source": [
    "## Library paths in Python\n",
    "\n",
    "This question is not so much about Python as a language, but Python as a runtime environment. As such, the question can be answered in a shell environment. A runtime environment is the environment that takes code (or compiled artefacts), and runs them to produce answers, such as the environment that runs the script below."
   ]
  },
  {
   "cell_type": "code",
   "execution_count": null,
   "id": "4e823741",
   "metadata": {},
   "outputs": [],
   "source": [
    "!python hello_world.py"
   ]
  },
  {
   "cell_type": "markdown",
   "id": "08fe6a11",
   "metadata": {},
   "source": [
    "Additional library paths can be set in a colon separated list in the PYTHONPATH environment variable. By default, this is usually empty, and using it is a bit old-school."
   ]
  },
  {
   "cell_type": "code",
   "execution_count": null,
   "id": "a96aed61",
   "metadata": {},
   "outputs": [],
   "source": [
    "!echo $PYTHONPATH"
   ]
  },
  {
   "cell_type": "markdown",
   "id": "2ff7ccdf",
   "metadata": {},
   "source": [
    "Any additional paths from PYTHONPATH are loaded into sys.path, which is the de-facto place to see all library paths in a Python environment to see the library paths. As a list of strings, it can be modified, although such actions can be dangerous, and make subsequent code pick up unexpected libraries."
   ]
  },
  {
   "cell_type": "code",
   "execution_count": null,
   "id": "b3750f2b",
   "metadata": {},
   "outputs": [],
   "source": [
    "sys.path"
   ]
  },
  {
   "cell_type": "markdown",
   "id": "7221716c",
   "metadata": {},
   "source": [
    "\n",
    "## Submodules\n",
    "\n",
    "Namespaces are something which do not directly exist in Python; they are commonplace in other languages. In Python, since everything is a reference (this includes modules, once they are loaded into the Python VM), the difference between namespaces, submodules, classes, functions etc becomes less relevant (although potentially more confusing).\n",
    "\n",
    "In the example below, Python resolves the module path. It makes no distinction on what is a folder, what is a file, and what is a class for path resolution. Indeed, for module path resolution, such matters are largely irrelevant; they are implementation details which are better left hidden from the user. Developers are then free to refactor the code (e.g. infile_module could become a folder, toplevel become a file, etc), and the code will be robust to such changes."
   ]
  },
  {
   "cell_type": "code",
   "execution_count": null,
   "id": "d479ff0c",
   "metadata": {},
   "outputs": [],
   "source": [
    "import pylibs.infile_module\n",
    "pylibs.infile_module.toplevel.nextlevel.hola()"
   ]
  },
  {
   "cell_type": "markdown",
   "id": "2d4dde1c",
   "metadata": {},
   "source": [
    "In the runtime environment, all of the parts of the path are loaded in as references:"
   ]
  },
  {
   "cell_type": "code",
   "execution_count": null,
   "id": "83b49249",
   "metadata": {},
   "outputs": [],
   "source": [
    "print(pylibs)\n",
    "print(hex(id(pylibs)))"
   ]
  },
  {
   "cell_type": "code",
   "execution_count": null,
   "id": "da1b52bd",
   "metadata": {},
   "outputs": [],
   "source": [
    "print(pylibs.infile_module)\n",
    "print(hex(id(pylibs.infile_module)))"
   ]
  },
  {
   "cell_type": "code",
   "execution_count": null,
   "id": "9397629d",
   "metadata": {},
   "outputs": [],
   "source": [
    "print(pylibs.infile_module.toplevel)\n",
    "print(hex(id(pylibs.infile_module.toplevel)))"
   ]
  },
  {
   "cell_type": "code",
   "execution_count": null,
   "id": "929507a0",
   "metadata": {},
   "outputs": [],
   "source": [
    "print(pylibs.infile_module.toplevel.nextlevel)\n",
    "print(hex(id(pylibs.infile_module.toplevel.nextlevel)))"
   ]
  },
  {
   "cell_type": "code",
   "execution_count": null,
   "id": "e495ab6e",
   "metadata": {},
   "outputs": [],
   "source": [
    "print(pylibs.infile_module.toplevel.nextlevel.hola)\n",
    "print(hex(id(pylibs.infile_module.toplevel.nextlevel.hola)))"
   ]
  },
  {
   "cell_type": "markdown",
   "id": "a9803d0d",
   "metadata": {},
   "source": [
    "Remember, __everything in Python is a reference__. This also means that everything can be treated on the same footing (no matter what that object looks like in code; be it folder, file, class, function...)"
   ]
  }
 ],
 "metadata": {
  "kernelspec": {
   "display_name": "Python 3 (ipykernel)",
   "language": "python",
   "name": "python3"
  },
  "language_info": {
   "codemirror_mode": {
    "name": "ipython",
    "version": 3
   },
   "file_extension": ".py",
   "mimetype": "text/x-python",
   "name": "python",
   "nbconvert_exporter": "python",
   "pygments_lexer": "ipython3",
   "version": "3.10.4"
  }
 },
 "nbformat": 4,
 "nbformat_minor": 5
}
