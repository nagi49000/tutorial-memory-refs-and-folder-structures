{
 "cells": [
  {
   "cell_type": "markdown",
   "id": "2d42ad33",
   "metadata": {},
   "source": [
    "# Building Python packages\n",
    "\n",
    "A carefully crafted directory structure makes the extension to building packages from the code relatively easy. One has to be careful since applying 'build' and 'setuptools' requires giving those tools some TLC; after all this time, they are still a little clunky. This notebook will show an example.\n",
    "\n",
    "Such a structure is in the 'buildable' directory, following the structure from https://packaging.python.org/en/latest/tutorials/packaging-projects/"
   ]
  },
  {
   "cell_type": "code",
   "execution_count": 11,
   "id": "e9919cbd",
   "metadata": {
    "scrolled": false
   },
   "outputs": [
    {
     "name": "stdout",
     "output_type": "stream",
     "text": [
      "\u001b[01;34m../buildable\u001b[00m\r\n",
      "└── \u001b[01;34mnumber_returns\u001b[00m\r\n",
      "    ├── \u001b[01;34mnumber_returns_tests\u001b[00m\r\n",
      "    │   ├── __init__.py\r\n",
      "    │   ├── \u001b[01;34mints\u001b[00m\r\n",
      "    │   │   ├── __init__.py\r\n",
      "    │   │   └── test_gimmes.py\r\n",
      "    │   └── \u001b[01;34mstrs\u001b[00m\r\n",
      "    │       ├── __init__.py\r\n",
      "    │       └── test_gimme_strs.py\r\n",
      "    └── \u001b[01;34msrc\u001b[00m\r\n",
      "        └── \u001b[01;34mnumber_returns\u001b[00m\r\n",
      "            ├── __init__.py\r\n",
      "            ├── \u001b[01;34mints\u001b[00m\r\n",
      "            │   ├── gimmes.py\r\n",
      "            │   └── __init__.py\r\n",
      "            └── \u001b[01;34mstrs\u001b[00m\r\n",
      "                ├── gimme_strs.py\r\n",
      "                └── __init__.py\r\n",
      "\r\n",
      "8 directories, 10 files\r\n"
     ]
    }
   ],
   "source": [
    "!tree -I __pycache__ ../buildable"
   ]
  },
  {
   "cell_type": "code",
   "execution_count": 12,
   "id": "612564b1",
   "metadata": {
    "scrolled": false
   },
   "outputs": [
    {
     "name": "stdout",
     "output_type": "stream",
     "text": [
      "\u001b[1m============================= test session starts ==============================\u001b[0m\n",
      "platform linux -- Python 3.10.4, pytest-7.1.1, pluggy-1.0.0\n",
      "rootdir: /home/jsnagi/proj/github/nagi49000/tutorial-memory-refs/python/buildable\n",
      "collected 3 items                                                              \u001b[0m\n",
      "\n",
      "number_returns/number_returns_tests/ints/test_gimmes.py \u001b[32m.\u001b[0m\u001b[32m.\u001b[0m\u001b[32m               [ 66%]\u001b[0m\n",
      "number_returns/number_returns_tests/strs/test_gimme_strs.py \u001b[32m.\u001b[0m\u001b[32m            [100%]\u001b[0m\n",
      "\n",
      "\u001b[32m============================== \u001b[32m\u001b[1m3 passed\u001b[0m\u001b[32m in 0.02s\u001b[0m\u001b[32m ===============================\u001b[0m\n"
     ]
    }
   ],
   "source": [
    "!cd ../buildable; python -m pytest"
   ]
  },
  {
   "cell_type": "markdown",
   "id": "23dbe1b8",
   "metadata": {},
   "source": [
    "The package tree structures are labelled with \\_\\_init\\_\\_.py files in the directories of the hierarchy, and _only_ in the directories of the hierarchy. This encapsulates the folder inclusions to the \"tests\" and 2nd \"number_returns\" directories, and allows any self-import structure within number_returns to work straight from the code, or from the installed package in exactly the same way. Indeed, the code under the second \"number_returns\" is exactly what will be installed into the site-packages directory on a pip install.\n",
    "\n",
    "The only hack that needs to be put in place is a sys.path mod in tests/\\_\\_init\\_\\_.py (which is at least entirely scoped to that set of tests), which bridges the two trees described by the \\_\\_init\\_\\_.py files between \"tests\" and \"number_returns\". \n",
    "\n",
    "The trees for the installable code and tests are deliberately separate since only one of the trees will be packaged into a pip install-able module. The tests module is given its own name (rather than just being called tests) so that \"buildable\" can have multiple modules, each with their own test directory, and pytest will not get confused by multiple modules called \"tests\" (this confusion can be removed by treating the multiple test modules as namespace packages, but this then runs the risks of test name clashes in the multiple tests folders)."
   ]
  },
  {
   "cell_type": "code",
   "execution_count": 13,
   "id": "34833ca9",
   "metadata": {},
   "outputs": [
    {
     "name": "stdout",
     "output_type": "stream",
     "text": [
      "import os\r\n",
      "import sys\r\n",
      "\r\n",
      "sys.path.append(os.path.join(os.path.dirname(__file__), \"..\", \"src\"))\r\n"
     ]
    }
   ],
   "source": [
    "!cat ../buildable/number_returns/number_returns_tests/__init__.py"
   ]
  },
  {
   "cell_type": "markdown",
   "id": "26f14778",
   "metadata": {},
   "source": [
    "Whilst strictly speaking not necessary, the \\_\\_init\\_\\_.py files enforce that the package builds will be \"regular packages\" as opposed to \"namespace packages\". The default action for developers should be making a \"regular package\", as this enforces tighter scoping.\n",
    "\n",
    "https://stackoverflow.com/questions/37139786/is-init-py-not-required-for-packages-in-python-3-3/\n",
    "\n",
    "https://packaging.python.org/en/latest/guides/packaging-namespace-packages/"
   ]
  },
  {
   "cell_type": "code",
   "execution_count": null,
   "id": "ee4563e1",
   "metadata": {},
   "outputs": [],
   "source": []
  },
  {
   "cell_type": "code",
   "execution_count": null,
   "id": "1fc63e27",
   "metadata": {},
   "outputs": [],
   "source": []
  }
 ],
 "metadata": {
  "kernelspec": {
   "display_name": "Python 3 (ipykernel)",
   "language": "python",
   "name": "python3"
  },
  "language_info": {
   "codemirror_mode": {
    "name": "ipython",
    "version": 3
   },
   "file_extension": ".py",
   "mimetype": "text/x-python",
   "name": "python",
   "nbconvert_exporter": "python",
   "pygments_lexer": "ipython3",
   "version": "3.10.4"
  }
 },
 "nbformat": 4,
 "nbformat_minor": 5
}
