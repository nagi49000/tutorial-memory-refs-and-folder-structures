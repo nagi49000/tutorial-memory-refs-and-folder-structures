{
 "cells": [
  {
   "cell_type": "markdown",
   "id": "42bb84b7",
   "metadata": {},
   "source": [
    "# Building Python packages\n",
    "\n",
    "A carefully crafted directory structure makes the extension to building packages from the code relatively easy. One has to be careful since applying 'build' and 'setuptools' requires giving those tools some TLC; after all this time, they are still a little clunky. This notebook will show an example."
   ]
  },
  {
   "cell_type": "markdown",
   "id": "3ae51204",
   "metadata": {},
   "source": [
    "## Folder structure\n",
    "\n",
    "Such a structure is in the 'buildable' directory, following the structure from https://packaging.python.org/en/latest/tutorials/packaging-projects/"
   ]
  },
  {
   "cell_type": "code",
   "execution_count": 16,
   "id": "a4c9eb9e",
   "metadata": {
    "scrolled": false
   },
   "outputs": [
    {
     "name": "stdout",
     "output_type": "stream",
     "text": [
      "\u001b[01;34m../buildable\u001b[00m\r\n",
      "└── \u001b[01;34mnumber_returns\u001b[00m\r\n",
      "    ├── LICENSE\r\n",
      "    ├── \u001b[01;34mnumber_returns_tests\u001b[00m\r\n",
      "    │   ├── __init__.py\r\n",
      "    │   ├── \u001b[01;34mints\u001b[00m\r\n",
      "    │   │   ├── __init__.py\r\n",
      "    │   │   └── test_gimmes.py\r\n",
      "    │   └── \u001b[01;34mstrs\u001b[00m\r\n",
      "    │       ├── __init__.py\r\n",
      "    │       └── test_gimme_strs.py\r\n",
      "    ├── pyproject.toml\r\n",
      "    ├── README.md\r\n",
      "    ├── setup.cfg\r\n",
      "    └── \u001b[01;34msrc\u001b[00m\r\n",
      "        └── \u001b[01;34mnumber_returns\u001b[00m\r\n",
      "            ├── __init__.py\r\n",
      "            ├── \u001b[01;34mints\u001b[00m\r\n",
      "            │   ├── gimmes.py\r\n",
      "            │   └── __init__.py\r\n",
      "            └── \u001b[01;34mstrs\u001b[00m\r\n",
      "                ├── gimme_strs.py\r\n",
      "                └── __init__.py\r\n",
      "\r\n",
      "8 directories, 14 files\r\n"
     ]
    }
   ],
   "source": [
    "!tree -I __pycache__ ../buildable"
   ]
  },
  {
   "cell_type": "code",
   "execution_count": 12,
   "id": "35e16fe9",
   "metadata": {
    "scrolled": false
   },
   "outputs": [
    {
     "name": "stdout",
     "output_type": "stream",
     "text": [
      "\u001b[1m============================= test session starts ==============================\u001b[0m\n",
      "platform linux -- Python 3.10.4, pytest-7.1.1, pluggy-1.0.0\n",
      "rootdir: /home/jsnagi/proj/github/nagi49000/tutorial-memory-refs/python/buildable\n",
      "collected 3 items                                                              \u001b[0m\n",
      "\n",
      "number_returns/number_returns_tests/ints/test_gimmes.py \u001b[32m.\u001b[0m\u001b[32m.\u001b[0m\u001b[32m               [ 66%]\u001b[0m\n",
      "number_returns/number_returns_tests/strs/test_gimme_strs.py \u001b[32m.\u001b[0m\u001b[32m            [100%]\u001b[0m\n",
      "\n",
      "\u001b[32m============================== \u001b[32m\u001b[1m3 passed\u001b[0m\u001b[32m in 0.02s\u001b[0m\u001b[32m ===============================\u001b[0m\n"
     ]
    }
   ],
   "source": [
    "!cd ../buildable; python -m pytest"
   ]
  },
  {
   "cell_type": "markdown",
   "id": "06906006",
   "metadata": {},
   "source": [
    "The package tree structures are labelled with \\_\\_init\\_\\_.py files in the directories of the hierarchy, and _only_ in the directories of the hierarchy. This encapsulates the folder inclusions to the \"tests\" and 2nd \"number_returns\" directories, and allows any self-import structure within number_returns to work straight from the code, or from the installed package in exactly the same way. Indeed, the code under the second \"number_returns\" is exactly what will be installed into the site-packages directory on a pip install.\n",
    "\n",
    "The only hack that needs to be put in place is a sys.path mod in tests/\\_\\_init\\_\\_.py (which is at least entirely scoped to that set of tests), which bridges the two trees described by the \\_\\_init\\_\\_.py files between \"tests\" and \"number_returns\". \n",
    "\n",
    "The trees for the installable code and tests are deliberately separate since only one of the trees will be packaged into a pip install-able module. The tests module is given its own name (rather than just being called tests) so that \"buildable\" can have multiple modules, each with their own test directory, and pytest will not get confused by multiple modules called \"tests\" (this confusion can be removed by treating the multiple test modules as namespace packages, but this then runs the risks of test name clashes in the multiple tests folders)."
   ]
  },
  {
   "cell_type": "code",
   "execution_count": 13,
   "id": "6f529f97",
   "metadata": {},
   "outputs": [
    {
     "name": "stdout",
     "output_type": "stream",
     "text": [
      "import os\r\n",
      "import sys\r\n",
      "\r\n",
      "sys.path.append(os.path.join(os.path.dirname(__file__), \"..\", \"src\"))\r\n"
     ]
    }
   ],
   "source": [
    "!cat ../buildable/number_returns/number_returns_tests/__init__.py"
   ]
  },
  {
   "cell_type": "markdown",
   "id": "8212323c",
   "metadata": {},
   "source": [
    "Whilst strictly speaking not necessary, the \\_\\_init\\_\\_.py files enforce that the package builds will be \"regular packages\" as opposed to \"namespace packages\". The default action for developers should be making a \"regular package\", as this enforces tighter scoping.\n",
    "\n",
    "https://stackoverflow.com/questions/37139786/is-init-py-not-required-for-packages-in-python-3-3/\n",
    "\n",
    "https://packaging.python.org/en/latest/guides/packaging-namespace-packages/"
   ]
  },
  {
   "cell_type": "markdown",
   "id": "9339c4bf",
   "metadata": {},
   "source": [
    "## File structure\n",
    "\n",
    "The packaging process is covered by two main files:\n",
    "- setup.cfg - this specifies the install environment and general setup for the package; it defines what gets packaged, and what dependencies should be checked for/installed at the 'pip install' stage. This used to be a setup.py, but a py file is run and checked dynamically. Having a static file means the entire setup can be checked upfront in the build process. There are still a few things that only work with a setup.py and not a setup.cfg; the default option should be to use a setup.cfg\n",
    "- pyproject.toml - this specifies the build environment for the package\n",
    "\n",
    "with other supporting files that are brought along for the ride:\n",
    "- LICENSE - contains licensing info, in this case a copy of the MIT license\n",
    "- README.md - readme for the package"
   ]
  },
  {
   "cell_type": "markdown",
   "id": "6c73202e",
   "metadata": {},
   "source": [
    "## Build process\n",
    "The build process is straightforward to run, and generates two objects that can be used to install; a wheel, and a tar.gz of the installables (which then still needs to go through the final parts of the build process on pip install).\n",
    "\n",
    "On build, it is always worth checking the output to see that all the files are packaged. Unzipping the tar.gz is also a good way of checking that all the relevant files have been packaged."
   ]
  },
  {
   "cell_type": "code",
   "execution_count": 17,
   "id": "4b0710e6",
   "metadata": {
    "scrolled": false
   },
   "outputs": [
    {
     "name": "stdout",
     "output_type": "stream",
     "text": [
      "\u001b[1m* Creating venv isolated environment...\u001b[0m\n",
      "\u001b[1m* Installing packages in isolated environment... (build >= 0.6.0, setuptools >= 60.0.0)\u001b[0m\n",
      "\u001b[1m* Getting dependencies for sdist...\u001b[0m\n",
      "running egg_info\n",
      "creating src/number_returns.egg-info\n",
      "writing src/number_returns.egg-info/PKG-INFO\n",
      "writing dependency_links to src/number_returns.egg-info/dependency_links.txt\n",
      "writing top-level names to src/number_returns.egg-info/top_level.txt\n",
      "writing manifest file 'src/number_returns.egg-info/SOURCES.txt'\n",
      "reading manifest file 'src/number_returns.egg-info/SOURCES.txt'\n",
      "adding license file 'LICENSE'\n",
      "writing manifest file 'src/number_returns.egg-info/SOURCES.txt'\n",
      "\u001b[1m* Building sdist...\u001b[0m\n",
      "running sdist\n",
      "running egg_info\n",
      "writing src/number_returns.egg-info/PKG-INFO\n",
      "writing dependency_links to src/number_returns.egg-info/dependency_links.txt\n",
      "writing top-level names to src/number_returns.egg-info/top_level.txt\n",
      "reading manifest file 'src/number_returns.egg-info/SOURCES.txt'\n",
      "adding license file 'LICENSE'\n",
      "writing manifest file 'src/number_returns.egg-info/SOURCES.txt'\n",
      "running check\n",
      "warning: check: missing required meta-data: url\n",
      "\n",
      "warning: check: missing meta-data: either (author and author_email) or (maintainer and maintainer_email) should be supplied\n",
      "\n",
      "creating number_returns-0.0.1\n",
      "creating number_returns-0.0.1/src\n",
      "creating number_returns-0.0.1/src/number_returns\n",
      "creating number_returns-0.0.1/src/number_returns.egg-info\n",
      "creating number_returns-0.0.1/src/number_returns/ints\n",
      "creating number_returns-0.0.1/src/number_returns/strs\n",
      "copying files to number_returns-0.0.1...\n",
      "copying LICENSE -> number_returns-0.0.1\n",
      "copying README.md -> number_returns-0.0.1\n",
      "copying pyproject.toml -> number_returns-0.0.1\n",
      "copying setup.cfg -> number_returns-0.0.1\n",
      "copying src/number_returns/__init__.py -> number_returns-0.0.1/src/number_returns\n",
      "copying src/number_returns.egg-info/PKG-INFO -> number_returns-0.0.1/src/number_returns.egg-info\n",
      "copying src/number_returns.egg-info/SOURCES.txt -> number_returns-0.0.1/src/number_returns.egg-info\n",
      "copying src/number_returns.egg-info/dependency_links.txt -> number_returns-0.0.1/src/number_returns.egg-info\n",
      "copying src/number_returns.egg-info/top_level.txt -> number_returns-0.0.1/src/number_returns.egg-info\n",
      "copying src/number_returns/ints/__init__.py -> number_returns-0.0.1/src/number_returns/ints\n",
      "copying src/number_returns/ints/gimmes.py -> number_returns-0.0.1/src/number_returns/ints\n",
      "copying src/number_returns/strs/__init__.py -> number_returns-0.0.1/src/number_returns/strs\n",
      "copying src/number_returns/strs/gimme_strs.py -> number_returns-0.0.1/src/number_returns/strs\n",
      "Writing number_returns-0.0.1/setup.cfg\n",
      "Creating tar archive\n",
      "removing 'number_returns-0.0.1' (and everything under it)\n",
      "\u001b[1m* Building wheel from sdist\u001b[0m\n",
      "\u001b[1m* Creating venv isolated environment...\u001b[0m\n",
      "\u001b[1m* Installing packages in isolated environment... (build >= 0.6.0, setuptools >= 60.0.0)\u001b[0m\n",
      "\u001b[1m* Getting dependencies for wheel...\u001b[0m\n",
      "running egg_info\n",
      "writing src/number_returns.egg-info/PKG-INFO\n",
      "writing dependency_links to src/number_returns.egg-info/dependency_links.txt\n",
      "writing top-level names to src/number_returns.egg-info/top_level.txt\n",
      "reading manifest file 'src/number_returns.egg-info/SOURCES.txt'\n",
      "adding license file 'LICENSE'\n",
      "writing manifest file 'src/number_returns.egg-info/SOURCES.txt'\n",
      "\u001b[1m* Installing packages in isolated environment... (wheel)\u001b[0m\n",
      "\u001b[1m* Building wheel...\u001b[0m\n",
      "running bdist_wheel\n",
      "running build\n",
      "running build_py\n",
      "creating build\n",
      "creating build/lib\n",
      "creating build/lib/number_returns\n",
      "copying src/number_returns/__init__.py -> build/lib/number_returns\n",
      "creating build/lib/number_returns/ints\n",
      "copying src/number_returns/ints/gimmes.py -> build/lib/number_returns/ints\n",
      "copying src/number_returns/ints/__init__.py -> build/lib/number_returns/ints\n",
      "creating build/lib/number_returns/strs\n",
      "copying src/number_returns/strs/gimme_strs.py -> build/lib/number_returns/strs\n",
      "copying src/number_returns/strs/__init__.py -> build/lib/number_returns/strs\n",
      "installing to build/bdist.linux-x86_64/wheel\n",
      "running install\n",
      "running install_lib\n",
      "creating build/bdist.linux-x86_64\n",
      "creating build/bdist.linux-x86_64/wheel\n",
      "creating build/bdist.linux-x86_64/wheel/number_returns\n",
      "creating build/bdist.linux-x86_64/wheel/number_returns/ints\n",
      "copying build/lib/number_returns/ints/gimmes.py -> build/bdist.linux-x86_64/wheel/number_returns/ints\n",
      "copying build/lib/number_returns/ints/__init__.py -> build/bdist.linux-x86_64/wheel/number_returns/ints\n",
      "copying build/lib/number_returns/__init__.py -> build/bdist.linux-x86_64/wheel/number_returns\n",
      "creating build/bdist.linux-x86_64/wheel/number_returns/strs\n",
      "copying build/lib/number_returns/strs/gimme_strs.py -> build/bdist.linux-x86_64/wheel/number_returns/strs\n",
      "copying build/lib/number_returns/strs/__init__.py -> build/bdist.linux-x86_64/wheel/number_returns/strs\n",
      "running install_egg_info\n",
      "running egg_info\n",
      "writing src/number_returns.egg-info/PKG-INFO\n",
      "writing dependency_links to src/number_returns.egg-info/dependency_links.txt\n",
      "writing top-level names to src/number_returns.egg-info/top_level.txt\n",
      "reading manifest file 'src/number_returns.egg-info/SOURCES.txt'\n",
      "adding license file 'LICENSE'\n",
      "writing manifest file 'src/number_returns.egg-info/SOURCES.txt'\n",
      "Copying src/number_returns.egg-info to build/bdist.linux-x86_64/wheel/number_returns-0.0.1-py3.10.egg-info\n",
      "running install_scripts\n",
      "adding license file \"LICENSE\" (matched pattern \"LICEN[CS]E*\")\n",
      "creating build/bdist.linux-x86_64/wheel/number_returns-0.0.1.dist-info/WHEEL\n",
      "creating '/home/jsnagi/proj/github/nagi49000/tutorial-memory-refs/python/buildable/number_returns/dist/tmptopgqc4s/number_returns-0.0.1-py3-none-any.whl' and adding 'build/bdist.linux-x86_64/wheel' to it\n",
      "adding 'number_returns/__init__.py'\n",
      "adding 'number_returns/ints/__init__.py'\n",
      "adding 'number_returns/ints/gimmes.py'\n",
      "adding 'number_returns/strs/__init__.py'\n",
      "adding 'number_returns/strs/gimme_strs.py'\n",
      "adding 'number_returns-0.0.1.dist-info/LICENSE'\n",
      "adding 'number_returns-0.0.1.dist-info/METADATA'\n",
      "adding 'number_returns-0.0.1.dist-info/WHEEL'\n",
      "adding 'number_returns-0.0.1.dist-info/top_level.txt'\n",
      "adding 'number_returns-0.0.1.dist-info/RECORD'\n",
      "removing build/bdist.linux-x86_64/wheel\n",
      "\u001b[1m\u001b[92mSuccessfully built \u001b[4mnumber_returns-0.0.1.tar.gz\u001b[0m\u001b[1m\u001b[92m and \u001b[4mnumber_returns-0.0.1-py3-none-any.whl\u001b[0m\u001b[1m\u001b[92m\u001b[0m\n"
     ]
    }
   ],
   "source": [
    "!cd ../buildable/number_returns; python -m build"
   ]
  },
  {
   "cell_type": "code",
   "execution_count": 19,
   "id": "c8bd0de1",
   "metadata": {},
   "outputs": [
    {
     "name": "stdout",
     "output_type": "stream",
     "text": [
      "\u001b[01;34m../buildable\u001b[00m\r\n",
      "└── \u001b[01;34mnumber_returns\u001b[00m\r\n",
      "    ├── \u001b[01;34mdist\u001b[00m\r\n",
      "    │   ├── number_returns-0.0.1-py3-none-any.whl\r\n",
      "    │   └── \u001b[01;31mnumber_returns-0.0.1.tar.gz\u001b[00m\r\n",
      "    ├── LICENSE\r\n",
      "    ├── \u001b[01;34mnumber_returns_tests\u001b[00m\r\n",
      "    │   ├── __init__.py\r\n",
      "    │   ├── \u001b[01;34mints\u001b[00m\r\n",
      "    │   │   ├── __init__.py\r\n",
      "    │   │   └── test_gimmes.py\r\n",
      "    │   └── \u001b[01;34mstrs\u001b[00m\r\n",
      "    │       ├── __init__.py\r\n",
      "    │       └── test_gimme_strs.py\r\n",
      "    ├── pyproject.toml\r\n",
      "    ├── README.md\r\n",
      "    ├── setup.cfg\r\n",
      "    └── \u001b[01;34msrc\u001b[00m\r\n",
      "        ├── \u001b[01;34mnumber_returns\u001b[00m\r\n",
      "        │   ├── __init__.py\r\n",
      "        │   ├── \u001b[01;34mints\u001b[00m\r\n",
      "        │   │   ├── gimmes.py\r\n",
      "        │   │   └── __init__.py\r\n",
      "        │   └── \u001b[01;34mstrs\u001b[00m\r\n",
      "        │       ├── gimme_strs.py\r\n",
      "        │       └── __init__.py\r\n",
      "        └── \u001b[01;34mnumber_returns.egg-info\u001b[00m\r\n",
      "            ├── dependency_links.txt\r\n",
      "            ├── PKG-INFO\r\n",
      "            ├── SOURCES.txt\r\n",
      "            └── top_level.txt\r\n",
      "\r\n",
      "10 directories, 20 files\r\n"
     ]
    }
   ],
   "source": [
    "!tree -I __pycache__ ../buildable"
   ]
  },
  {
   "cell_type": "markdown",
   "id": "c9d7a356",
   "metadata": {},
   "source": [
    "Either the tar.gz or wheel can be used to install the package. Note that doing a pip install in the notebook is usually a bad idea; installs should be taken care of by proper environment management. It is here for pedagogy."
   ]
  },
  {
   "cell_type": "code",
   "execution_count": 21,
   "id": "900492db",
   "metadata": {},
   "outputs": [
    {
     "name": "stdout",
     "output_type": "stream",
     "text": [
      "Processing /home/jsnagi/proj/github/nagi49000/tutorial-memory-refs/python/buildable/number_returns/dist/number_returns-0.0.1-py3-none-any.whl\r\n",
      "number-returns is already installed with the same version as the provided wheel. Use --force-reinstall to force an installation of the wheel.\r\n"
     ]
    }
   ],
   "source": [
    "!python -m pip install ../buildable/number_returns/dist/number_returns-0.0.1-py3-none-any.whl"
   ]
  },
  {
   "cell_type": "markdown",
   "id": "bff17e15",
   "metadata": {},
   "source": [
    "The package can then be used as usual"
   ]
  },
  {
   "cell_type": "code",
   "execution_count": 25,
   "id": "e57d71e7",
   "metadata": {},
   "outputs": [
    {
     "data": {
      "text/plain": [
       "'5'"
      ]
     },
     "execution_count": 25,
     "metadata": {},
     "output_type": "execute_result"
    }
   ],
   "source": [
    "import number_returns.strs.gimme_strs\n",
    "number_returns.strs.gimme_strs.gimme5str()"
   ]
  },
  {
   "cell_type": "code",
   "execution_count": 27,
   "id": "7f2e3f21",
   "metadata": {},
   "outputs": [
    {
     "data": {
      "text/plain": [
       "'/home/jsnagi/miniconda3/envs/tutorial-mem-refs/lib/python3.10/site-packages/number_returns/__init__.py'"
      ]
     },
     "execution_count": 27,
     "metadata": {},
     "output_type": "execute_result"
    }
   ],
   "source": [
    "number_returns.__file__  # this yields a location in the install area"
   ]
  },
  {
   "cell_type": "code",
   "execution_count": 31,
   "id": "f9185515",
   "metadata": {},
   "outputs": [
    {
     "name": "stdout",
     "output_type": "stream",
     "text": [
      "Found existing installation: number-returns 0.0.1\r\n",
      "Uninstalling number-returns-0.0.1:\r\n",
      "  Successfully uninstalled number-returns-0.0.1\r\n"
     ]
    }
   ],
   "source": [
    "# clean up after oursleves\n",
    "!python -m pip uninstall -y number_returns"
   ]
  }
 ],
 "metadata": {
  "kernelspec": {
   "display_name": "Python 3 (ipykernel)",
   "language": "python",
   "name": "python3"
  },
  "language_info": {
   "codemirror_mode": {
    "name": "ipython",
    "version": 3
   },
   "file_extension": ".py",
   "mimetype": "text/x-python",
   "name": "python",
   "nbconvert_exporter": "python",
   "pygments_lexer": "ipython3",
   "version": "3.10.4"
  }
 },
 "nbformat": 4,
 "nbformat_minor": 5
}
