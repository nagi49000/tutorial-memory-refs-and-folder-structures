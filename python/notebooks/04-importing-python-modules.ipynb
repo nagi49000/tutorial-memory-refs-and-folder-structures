{
 "cells": [
  {
   "cell_type": "code",
   "execution_count": 1,
   "id": "f8a43f0a",
   "metadata": {},
   "outputs": [],
   "source": [
    "from os import path\n",
    "import sys"
   ]
  },
  {
   "cell_type": "markdown",
   "id": "e96ad017",
   "metadata": {},
   "source": [
    "# Importing Python modules\n",
    "\n",
    "From the earlier notebooks in this tutorial, hopefully it should be clear that in order to import something into Python, that the objects need to be on the library path.\n",
    "\n",
    "In this notebook, the import paths will be updated (in a rather nasty way, but at least explicit), and a module imported.\n",
    "\n",
    "The modules sit in a folder next to the notebooks folder."
   ]
  },
  {
   "cell_type": "code",
   "execution_count": 2,
   "id": "30e37390",
   "metadata": {},
   "outputs": [
    {
     "name": "stdout",
     "output_type": "stream",
     "text": [
      "\u001b[01;34m../non_buildable\u001b[00m\r\n",
      "└── \u001b[01;34mnumber_returns\u001b[00m\r\n",
      "    ├── \u001b[01;34mnumber_returns\u001b[00m\r\n",
      "    │   ├── gimmes.py\r\n",
      "    │   └── gimme_strs.py\r\n",
      "    └── \u001b[01;34mtests\u001b[00m\r\n",
      "        ├── test_gimmes.py\r\n",
      "        └── test_gimme_strs.py\r\n",
      "\r\n",
      "3 directories, 4 files\r\n"
     ]
    }
   ],
   "source": [
    "!tree -I __pycache__ ../non_buildable"
   ]
  },
  {
   "cell_type": "code",
   "execution_count": 3,
   "id": "9523ae62",
   "metadata": {},
   "outputs": [
    {
     "name": "stdout",
     "output_type": "stream",
     "text": [
      "\u001b[1m============================= test session starts ==============================\u001b[0m\r\n",
      "platform linux -- Python 3.10.4, pytest-7.1.1, pluggy-1.0.0\r\n",
      "rootdir: /home/jsnagi/proj/github/nagi49000/tutorial-memory-refs/python/non_buildable/number_returns\r\n",
      "\u001b[1mcollecting ... \u001b[0m\u001b[1m\r",
      "collected 3 items                                                              \u001b[0m\r\n",
      "\r\n",
      "tests/test_gimme_strs.py \u001b[32m.\u001b[0m\u001b[32m                                               [ 33%]\u001b[0m\r\n",
      "tests/test_gimmes.py \u001b[32m.\u001b[0m\u001b[32m.\u001b[0m\u001b[32m                                                  [100%]\u001b[0m\r\n",
      "\r\n",
      "\u001b[32m============================== \u001b[32m\u001b[1m3 passed\u001b[0m\u001b[32m in 0.01s\u001b[0m\u001b[32m ===============================\u001b[0m\r\n"
     ]
    }
   ],
   "source": [
    "!cd ../non_buildable/number_returns/; python -m pytest\n",
    "# these tests should succeed"
   ]
  },
  {
   "cell_type": "markdown",
   "id": "871e3741",
   "metadata": {},
   "source": [
    "Due to specifying the folder location, the current working directory that is implicitly in the sys.path means that all imports, relative to \".\", which in the case above was \"../non_buildable/number_returns/\", all work. This does mean that running anywhere else will mean the relative imports fail."
   ]
  },
  {
   "cell_type": "code",
   "execution_count": 4,
   "id": "c423cff2",
   "metadata": {},
   "outputs": [
    {
     "name": "stdout",
     "output_type": "stream",
     "text": [
      "\u001b[1m============================= test session starts ==============================\u001b[0m\n",
      "platform linux -- Python 3.10.4, pytest-7.1.1, pluggy-1.0.0\n",
      "rootdir: /home/jsnagi/proj/github/nagi49000/tutorial-memory-refs/python/non_buildable\n",
      "collected 0 items / 2 errors                                                   \u001b[0m\n",
      "\n",
      "==================================== ERRORS ====================================\n",
      "\u001b[31m\u001b[1m___________ ERROR collecting number_returns/tests/test_gimme_strs.py ___________\u001b[0m\n",
      "\u001b[31mImportError while importing test module '/home/jsnagi/proj/github/nagi49000/tutorial-memory-refs/python/non_buildable/number_returns/tests/test_gimme_strs.py'.\n",
      "Hint: make sure your test modules/packages have valid Python names.\n",
      "Traceback:\n",
      "/home/jsnagi/miniconda3/envs/tutorial-mem-refs/lib/python3.10/importlib/__init__.py:126: in import_module\n",
      "    return _bootstrap._gcd_import(name[level:], package, level)\n",
      "number_returns/tests/test_gimme_strs.py:1: in <module>\n",
      "    from number_returns.gimme_strs import gimme5str\n",
      "E   ModuleNotFoundError: No module named 'number_returns.gimme_strs'\u001b[0m\n",
      "\u001b[31m\u001b[1m_____________ ERROR collecting number_returns/tests/test_gimmes.py _____________\u001b[0m\n",
      "\u001b[31mImportError while importing test module '/home/jsnagi/proj/github/nagi49000/tutorial-memory-refs/python/non_buildable/number_returns/tests/test_gimmes.py'.\n",
      "Hint: make sure your test modules/packages have valid Python names.\n",
      "Traceback:\n",
      "/home/jsnagi/miniconda3/envs/tutorial-mem-refs/lib/python3.10/importlib/__init__.py:126: in import_module\n",
      "    return _bootstrap._gcd_import(name[level:], package, level)\n",
      "number_returns/tests/test_gimmes.py:1: in <module>\n",
      "    import number_returns.gimmes\n",
      "E   ModuleNotFoundError: No module named 'number_returns.gimmes'\u001b[0m\n",
      "=========================== short test summary info ============================\n",
      "ERROR number_returns/tests/test_gimme_strs.py\n",
      "ERROR number_returns/tests/test_gimmes.py\n",
      "!!!!!!!!!!!!!!!!!!! Interrupted: 2 errors during collection !!!!!!!!!!!!!!!!!!!!\n",
      "\u001b[31m============================== \u001b[31m\u001b[1m2 errors\u001b[0m\u001b[31m in 0.05s\u001b[0m\u001b[31m ===============================\u001b[0m\n"
     ]
    }
   ],
   "source": [
    "!cd ../non_buildable/; python -m pytest\n",
    "# these tests should fail"
   ]
  },
  {
   "cell_type": "code",
   "execution_count": 5,
   "id": "f00e5530",
   "metadata": {},
   "outputs": [
    {
     "name": "stdout",
     "output_type": "stream",
     "text": [
      "\u001b[1m============================= test session starts ==============================\u001b[0m\n",
      "platform linux -- Python 3.10.4, pytest-7.1.1, pluggy-1.0.0\n",
      "rootdir: /home/jsnagi/proj/github/nagi49000/tutorial-memory-refs/python/non_buildable/number_returns/tests\n",
      "collected 0 items / 2 errors                                                   \u001b[0m\n",
      "\n",
      "==================================== ERRORS ====================================\n",
      "\u001b[31m\u001b[1m_____________________ ERROR collecting test_gimme_strs.py ______________________\u001b[0m\n",
      "\u001b[31mImportError while importing test module '/home/jsnagi/proj/github/nagi49000/tutorial-memory-refs/python/non_buildable/number_returns/tests/test_gimme_strs.py'.\n",
      "Hint: make sure your test modules/packages have valid Python names.\n",
      "Traceback:\n",
      "/home/jsnagi/miniconda3/envs/tutorial-mem-refs/lib/python3.10/importlib/__init__.py:126: in import_module\n",
      "    return _bootstrap._gcd_import(name[level:], package, level)\n",
      "test_gimme_strs.py:1: in <module>\n",
      "    from number_returns.gimme_strs import gimme5str\n",
      "E   ModuleNotFoundError: No module named 'number_returns'\u001b[0m\n",
      "\u001b[31m\u001b[1m_______________________ ERROR collecting test_gimmes.py ________________________\u001b[0m\n",
      "\u001b[31mImportError while importing test module '/home/jsnagi/proj/github/nagi49000/tutorial-memory-refs/python/non_buildable/number_returns/tests/test_gimmes.py'.\n",
      "Hint: make sure your test modules/packages have valid Python names.\n",
      "Traceback:\n",
      "/home/jsnagi/miniconda3/envs/tutorial-mem-refs/lib/python3.10/importlib/__init__.py:126: in import_module\n",
      "    return _bootstrap._gcd_import(name[level:], package, level)\n",
      "test_gimmes.py:1: in <module>\n",
      "    import number_returns.gimmes\n",
      "E   ModuleNotFoundError: No module named 'number_returns'\u001b[0m\n",
      "=========================== short test summary info ============================\n",
      "ERROR test_gimme_strs.py\n",
      "ERROR test_gimmes.py\n",
      "!!!!!!!!!!!!!!!!!!! Interrupted: 2 errors during collection !!!!!!!!!!!!!!!!!!!!\n",
      "\u001b[31m============================== \u001b[31m\u001b[1m2 errors\u001b[0m\u001b[31m in 0.05s\u001b[0m\u001b[31m ===============================\u001b[0m\n"
     ]
    }
   ],
   "source": [
    "!cd ../non_buildable/number_returns/tests/; python -m pytest\n",
    "# these tests should fail"
   ]
  },
  {
   "cell_type": "markdown",
   "id": "6ff7769d",
   "metadata": {},
   "source": [
    "This can be fixed by having the tests directory having an \\_\\_init\\_\\_.py. This file will be picked up by pytest when it tries to import the tests module; pytest will perform its test file discovery, and attempt to import the relevant modules. Recall that an import on the modules runs the relevant init, which in this case will add the required path to the sys.path"
   ]
  },
  {
   "cell_type": "code",
   "execution_count": 6,
   "id": "0eaf0a03",
   "metadata": {},
   "outputs": [
    {
     "name": "stdout",
     "output_type": "stream",
     "text": [
      "\u001b[01;34m../non_buildable_2\u001b[00m\r\n",
      "└── \u001b[01;34mnumber_returns\u001b[00m\r\n",
      "    ├── \u001b[01;34mnumber_returns\u001b[00m\r\n",
      "    │   ├── gimmes.py\r\n",
      "    │   └── gimme_strs.py\r\n",
      "    └── \u001b[01;34mtests\u001b[00m\r\n",
      "        ├── __init__.py\r\n",
      "        ├── test_gimmes.py\r\n",
      "        └── test_gimme_strs.py\r\n",
      "\r\n",
      "3 directories, 5 files\r\n"
     ]
    }
   ],
   "source": [
    "!tree -I __pycache__ ../non_buildable_2"
   ]
  },
  {
   "cell_type": "code",
   "execution_count": 7,
   "id": "7bb71d14",
   "metadata": {},
   "outputs": [
    {
     "name": "stdout",
     "output_type": "stream",
     "text": [
      "import os\r\n",
      "import sys\r\n",
      "\r\n",
      "sys.path.append(os.path.join(\"..\"))\r\n"
     ]
    }
   ],
   "source": [
    "!cat ../non_buildable_2/number_returns/tests/__init__.py"
   ]
  },
  {
   "cell_type": "code",
   "execution_count": 8,
   "id": "7d747c9c",
   "metadata": {},
   "outputs": [
    {
     "name": "stdout",
     "output_type": "stream",
     "text": [
      "\u001b[1m============================= test session starts ==============================\u001b[0m\n",
      "platform linux -- Python 3.10.4, pytest-7.1.1, pluggy-1.0.0\n",
      "rootdir: /home/jsnagi/proj/github/nagi49000/tutorial-memory-refs/python/non_buildable_2\n",
      "collected 3 items                                                              \u001b[0m\n",
      "\n",
      "number_returns/tests/test_gimme_strs.py \u001b[32m.\u001b[0m\u001b[32m                                [ 33%]\u001b[0m\n",
      "number_returns/tests/test_gimmes.py \u001b[32m.\u001b[0m\u001b[32m.\u001b[0m\u001b[32m                                   [100%]\u001b[0m\n",
      "\n",
      "\u001b[32m============================== \u001b[32m\u001b[1m3 passed\u001b[0m\u001b[32m in 0.01s\u001b[0m\u001b[32m ===============================\u001b[0m\n"
     ]
    }
   ],
   "source": [
    "!cd ../non_buildable_2/; python -m pytest\n",
    "# these tests should succeed"
   ]
  },
  {
   "cell_type": "code",
   "execution_count": 9,
   "id": "c866a31b",
   "metadata": {},
   "outputs": [
    {
     "name": "stdout",
     "output_type": "stream",
     "text": [
      "\u001b[1m============================= test session starts ==============================\u001b[0m\r\n",
      "platform linux -- Python 3.10.4, pytest-7.1.1, pluggy-1.0.0\r\n",
      "rootdir: /home/jsnagi/proj/github/nagi49000/tutorial-memory-refs/python/non_buildable_2/number_returns/tests\r\n",
      "\u001b[1mcollecting ... \u001b[0m\u001b[1m\r",
      "collected 3 items                                                              \u001b[0m\r\n",
      "\r\n",
      "test_gimme_strs.py \u001b[32m.\u001b[0m\u001b[32m                                                     [ 33%]\u001b[0m\r\n",
      "test_gimmes.py \u001b[32m.\u001b[0m\u001b[32m.\u001b[0m\u001b[32m                                                        [100%]\u001b[0m\r\n",
      "\r\n",
      "\u001b[32m============================== \u001b[32m\u001b[1m3 passed\u001b[0m\u001b[32m in 0.01s\u001b[0m\u001b[32m ===============================\u001b[0m\r\n"
     ]
    }
   ],
   "source": [
    "!cd ../non_buildable_2/number_returns/tests/; python -m pytest\n",
    "# these tests should succeed"
   ]
  },
  {
   "cell_type": "markdown",
   "id": "8216e285",
   "metadata": {},
   "source": [
    "This now starts to move towards a buildable structure where there can be multiple libs and modules sitting next to eachother, and the tests can be run using a simple command at a top level above the library folder structure, which can be flexibly chosen (and is independent of the code). This is the minimal starting point one would want to have before being able to integrate with any kind of DevOps."
   ]
  }
 ],
 "metadata": {
  "kernelspec": {
   "display_name": "Python 3 (ipykernel)",
   "language": "python",
   "name": "python3"
  },
  "language_info": {
   "codemirror_mode": {
    "name": "ipython",
    "version": 3
   },
   "file_extension": ".py",
   "mimetype": "text/x-python",
   "name": "python",
   "nbconvert_exporter": "python",
   "pygments_lexer": "ipython3",
   "version": "3.10.4"
  }
 },
 "nbformat": 4,
 "nbformat_minor": 5
}
