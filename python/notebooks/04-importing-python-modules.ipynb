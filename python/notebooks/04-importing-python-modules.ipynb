{
 "cells": [
  {
   "cell_type": "code",
   "execution_count": null,
   "id": "f8a43f0a",
   "metadata": {},
   "outputs": [],
   "source": [
    "from os import path\n",
    "import sys"
   ]
  },
  {
   "cell_type": "markdown",
   "id": "e96ad017",
   "metadata": {},
   "source": [
    "# Importing Python modules\n",
    "\n",
    "From the earlier notebooks in this tutorial, hopefully it should be clear that in order to import something into Python, that the objects need to be on the library path.\n",
    "\n",
    "In this notebook, the import paths will be updated (in a rather nasty way, but at least explicit), and a module imported.\n",
    "\n",
    "The modules sit in a folder next to the notebooks folder."
   ]
  },
  {
   "cell_type": "code",
   "execution_count": null,
   "id": "9523ae62",
   "metadata": {},
   "outputs": [],
   "source": [
    "!cd ../non_buildable/number_returns/; python -m pytest\n",
    "# these tests should succeed"
   ]
  },
  {
   "cell_type": "markdown",
   "id": "871e3741",
   "metadata": {},
   "source": [
    "Due to specifying the folder location, the current working directory that is implicitly in the sys.path means that all imports, relative to \".\", which in the case above was \"../non_buildable/number_returns/\", all work. This does mean that running anywhere else will mean the relative imports fail."
   ]
  },
  {
   "cell_type": "code",
   "execution_count": null,
   "id": "c423cff2",
   "metadata": {},
   "outputs": [],
   "source": [
    "!cd ../non_buildable/; python -m pytest\n",
    "# these tests should fail"
   ]
  },
  {
   "cell_type": "code",
   "execution_count": null,
   "id": "f00e5530",
   "metadata": {},
   "outputs": [],
   "source": [
    "!cd ../non_buildable/number_returns/tests/; python -m pytest\n",
    "# these tests should fail"
   ]
  },
  {
   "cell_type": "markdown",
   "id": "6ff7769d",
   "metadata": {},
   "source": [
    "This can be fixed by having the tests directory having an \\_\\_init\\_\\_.py. This file will be picked up by pytest when it tries to import the tests module; pytest will perform its test file discovery, and attempt to import the relevant modules. Recall that an import on the modules runs the relevant init, which in this case will add the required path to the sys.path"
   ]
  },
  {
   "cell_type": "code",
   "execution_count": null,
   "id": "7bb71d14",
   "metadata": {},
   "outputs": [],
   "source": [
    "!cat ../non_buildable_2/number_returns/tests/__init__.py"
   ]
  },
  {
   "cell_type": "code",
   "execution_count": null,
   "id": "7d747c9c",
   "metadata": {},
   "outputs": [],
   "source": [
    "!cd ../non_buildable_2/; python -m pytest\n",
    "# these tests should succeed"
   ]
  },
  {
   "cell_type": "code",
   "execution_count": null,
   "id": "c866a31b",
   "metadata": {},
   "outputs": [],
   "source": [
    "!cd ../non_buildable_2/number_returns/tests/; python -m pytest\n",
    "# these tests should succeed"
   ]
  },
  {
   "cell_type": "markdown",
   "id": "8216e285",
   "metadata": {},
   "source": [
    "This now starts to move towards a buildable structure where there can be multiple libs and modules sitting next to eachother, and the tests can be run using a simple command at a top level above the library folder structure, which can be flexibly chosen (and is independent of the code). This is the minimal starting point one would want to have before being able to integrate with any kind of DevOps."
   ]
  }
 ],
 "metadata": {
  "kernelspec": {
   "display_name": "Python 3 (ipykernel)",
   "language": "python",
   "name": "python3"
  },
  "language_info": {
   "codemirror_mode": {
    "name": "ipython",
    "version": 3
   },
   "file_extension": ".py",
   "mimetype": "text/x-python",
   "name": "python",
   "nbconvert_exporter": "python",
   "pygments_lexer": "ipython3",
   "version": "3.10.4"
  }
 },
 "nbformat": 4,
 "nbformat_minor": 5
}
